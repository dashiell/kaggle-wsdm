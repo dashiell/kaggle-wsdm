{
 "cells": [
  {
   "cell_type": "code",
   "execution_count": null,
   "metadata": {
    "collapsed": true
   },
   "outputs": [],
   "source": [
    "## needs ~50 gb memory\n",
    "import pandas as pd \n",
    "import numpy as np \n",
    "\n",
    "import gc\n",
    "\n",
    "members = pd.read_csv('../input/members.csv') # more member msno than training examples.  some train msno are not in members.\n",
    "transactions = pd.read_csv('../input/transactions.csv') \n",
    "user_logs = pd.read_csv('../input/user_logs.csv', usecols=['msno','date','total_secs']) # some msno from train are missing.\n",
    "train = pd.read_csv('../input/train.csv')\n",
    "test = pd.read_csv('../input/sample_submission_zero.csv')\n",
    "\n",
    "group = transactions.groupby('msno')\n",
    "trans_summ_stats = group.agg({'msno' : { 'total_order' : 'count' },\n",
    "                        'plan_list_price' : {'plan_net_worth' : 'sum'},\n",
    "                         'actual_amount_paid' : {'mean_payment_each_transaction' : 'mean',\n",
    "                                                 'total_actual_payment' : 'sum'},\n",
    "                         'is_cancel' : {'cancel_times' : lambda x : sum(x==1)}})\n",
    "\n",
    "\n",
    "trans_summ_stats.columns = trans_summ_stats.columns.droplevel(0)\n",
    "trans_summ_stats.reset_index(inplace=True)\n",
    "\n",
    "base = pd.merge(left=members, right=trans_summ_stats, how='right', on='msno')\n",
    "print(\"1\",base.columns)\n",
    "# add summary stats for the user logs\n",
    "\n",
    "group = user_logs.groupby('msno')\n",
    "logs_summ_stats = group.agg({\n",
    "    'msno': {'total_listens' : 'count'},\n",
    "    'date': {'last_listen_date' : 'max'}\n",
    "    })\n",
    "\n",
    "logs_summ_stats.columns = logs_summ_stats.columns.droplevel(0)\n",
    "logs_summ_stats.reset_index(inplace=True)\n",
    "\n",
    "base = base.merge(logs_summ_stats, how='left', on='msno')\n",
    "\n",
    "# the last time a user played a song - the date the user registered\n",
    "base['dist_last_listen_registration'] = base['last_listen_date'] - base['registration_init_time'] \n",
    "# last listen time - expiration date\n",
    "base['dist_expiration_last_listen'] = base['expiration_date'] - base['last_listen_date']\n",
    "base['listens_per_day'] = base['total_listens'] / base['dist_last_listen_registration']\n",
    "\n",
    "base['gender'].fillna('unknown_gender', inplace=True)\n",
    "dummies = pd.get_dummies(base['gender'])\n",
    "\n",
    "base.drop('gender', axis=1, inplace=True)\n",
    "base = base.join(dummies)\n",
    "train = train.merge(base, how='left', on='msno')\n",
    "\n",
    "test = test.merge(base, how='left', on='msno')\n",
    "\n",
    "train.to_csv('../input/merged-train.csv',index=False)\n",
    "test.to_csv('../input/merged-test.csv',index=False)"
   ]
  },
  {
   "cell_type": "code",
   "execution_count": null,
   "metadata": {
    "collapsed": true
   },
   "outputs": [],
   "source": [
    "#print(len(train),len(members), len(test))\n",
    "\n",
    "#train.isnull().sum()"
   ]
  },
  {
   "cell_type": "code",
   "execution_count": null,
   "metadata": {
    "collapsed": true
   },
   "outputs": [],
   "source": [
    "#test\n",
    "\n",
    "### some msno data is missing..\n",
    "#transactions[transactions['msno']=='4HykJ6KaHOBgdGIa4mlxU9bxFRc+Co/PGcrhgTftOm0=']  ## has records\n",
    "#user_logs[user_logs['msno']=='4HykJ6KaHOBgdGIa4mlxU9bxFRc+Co/PGcrhgTftOm0='] ## no records\n",
    "#members[members['msno']=='4HykJ6KaHOBgdGIa4mlxU9bxFRc+Co/PGcrhgTftOm0=']  ## no records\n",
    "#train[train['msno']=='4HykJ6KaHOBgdGIa4mlxU9bxFRc+Co/PGcrhgTftOm0=']  ## has records\n",
    "\n",
    "#train.isnull().sum()"
   ]
  }
 ],
 "metadata": {
  "kernelspec": {
   "display_name": "Python 3",
   "language": "python",
   "name": "python3"
  },
  "language_info": {
   "codemirror_mode": {
    "name": "ipython",
    "version": 3
   },
   "file_extension": ".py",
   "mimetype": "text/x-python",
   "name": "python",
   "nbconvert_exporter": "python",
   "pygments_lexer": "ipython3",
   "version": "3.6.2"
  }
 },
 "nbformat": 4,
 "nbformat_minor": 2
}
