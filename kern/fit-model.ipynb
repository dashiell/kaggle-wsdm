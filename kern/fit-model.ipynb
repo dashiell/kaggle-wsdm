{
 "cells": [
  {
   "cell_type": "code",
   "execution_count": 1,
   "metadata": {},
   "outputs": [
    {
     "name": "stderr",
     "output_type": "stream",
     "text": [
      "/home/dashiell/anaconda3/lib/python3.6/site-packages/sklearn/cross_validation.py:41: DeprecationWarning: This module was deprecated in version 0.18 in favor of the model_selection module into which all the refactored classes and functions are moved. Also note that the interface of the new CV iterators are different from that of this module. This module will be removed in 0.20.\n",
      "  \"This module will be removed in 0.20.\", DeprecationWarning)\n"
     ]
    }
   ],
   "source": [
    "import pandas as pd \n",
    "import numpy as np \n",
    "import lightgbm as lgb\n",
    "import xgboost as xgb\n",
    "from sklearn.model_selection import StratifiedKFold\n",
    "#from sklearn.model_selection import KFold\n",
    "from sklearn.model_selection import train_test_split\n",
    "from sklearn import metrics\n",
    "import gc"
   ]
  },
  {
   "cell_type": "code",
   "execution_count": 2,
   "metadata": {
    "collapsed": true
   },
   "outputs": [],
   "source": [
    "train = pd.read_csv('../input/merged-train.csv')\n",
    "test = pd.read_csv('../input/merged-test.csv')"
   ]
  },
  {
   "cell_type": "code",
   "execution_count": 3,
   "metadata": {},
   "outputs": [
    {
     "name": "stdout",
     "output_type": "stream",
     "text": [
      "(869896, 18) 869896\n"
     ]
    }
   ],
   "source": [
    "train.dropna(axis=0, inplace=True) # temporary\n",
    "X_train, X_holdout, y_train, y_holdout = train_test_split(train.drop(['msno', 'is_churn'], axis=1), train['is_churn'], test_size=0.05)\n",
    "\n",
    "#X_train = train.drop(['msno','is_churn'], axis=1)\n",
    "#y_train = train['is_churn']\n",
    "\n",
    "#print(X_train.shape, len(y_train))\n",
    "#X_train.head()\n",
    "\n",
    "train_meta = X_train.copy()\n",
    "train_meta['fold_id'] = -999\n",
    "train_meta['M1'] = np.nan\n",
    "train_meta['M2'] = np.nan"
   ]
  },
  {
   "cell_type": "code",
   "execution_count": 29,
   "metadata": {},
   "outputs": [],
   "source": [
    "def fit_lgb_model(seed, train_index, test_index=None):\n",
    "    d_valid = None\n",
    "    es_rounds = None\n",
    "    \n",
    "    lgb_params = {\n",
    "        'num_leaves': 108,\n",
    "        'boosting_type': 'gbdt',\n",
    "        'objective':'binary',\n",
    "        'metric':'binary_logloss',\n",
    "        'learning_rate': 0.01,\n",
    "        'feature_fraction': 0.8,\n",
    "        'bagging_freq': 1,\n",
    "        'max_bin': 128,\n",
    "        'max_depth': 10,\n",
    "        'seed':seed,\n",
    "    }\n",
    "\n",
    "    d_train = lgb.Dataset(X_train.iloc[train_index], label=y_train.iloc[train_index])\n",
    "    if test_index is not None:\n",
    "        d_valid = lgb.Dataset(X_train.iloc[test_index], label=y_train.iloc[test_index], reference=d_train)\n",
    " \n",
    "    lgb_fitted = lgb.train(lgb_params, d_train, num_boost_round=15, valid_sets=d_valid, early_stopping_rounds=es_rounds)\n",
    "    \n",
    "    return lgb_fitted\n",
    "\n",
    "def fit_xgb_model(seed, train_index, test_index=None):\n",
    "    watchlist = None\n",
    "    es_rounds = None\n",
    "    \n",
    "    xgb_params = {\n",
    "        'eta': 0.02, #use 0.002\n",
    "        'max_depth': 7,\n",
    "        'objective': 'binary:logistic',\n",
    "        'silent': True,\n",
    "        'seed': seed,\n",
    "    }\n",
    "    \n",
    "    if test_index is not None:\n",
    "        watchlist = [(xgb.DMatrix(X_train.iloc[train_index],y_train.iloc[train_index]), 'train'), \n",
    "                     (xgb.DMatrix(X_train.iloc[test_index], y_train.iloc[test_index]), 'valid')]\n",
    "        es_rounds = 5\n",
    "\n",
    "        \n",
    "    xgb_fitted = xgb.train(xgb_params, xgb.DMatrix(X_train.iloc[train_index], y_train.iloc[train_index]), \n",
    "                           15,  evals=watchlist, maximize=False, verbose_eval=5, early_stopping_rounds=5) #use 1500\n",
    "    \n",
    "    return xgb_fitted\n",
    "    "
   ]
  },
  {
   "cell_type": "code",
   "execution_count": 30,
   "metadata": {},
   "outputs": [
    {
     "name": "stdout",
     "output_type": "stream",
     "text": [
      "training lgbm\n",
      "[1]\tvalid_0's binary_logloss: 0.684254\n",
      "[2]\tvalid_0's binary_logloss: 0.67551\n",
      "[3]\tvalid_0's binary_logloss: 0.666951\n",
      "[4]\tvalid_0's binary_logloss: 0.658547\n",
      "[5]\tvalid_0's binary_logloss: 0.650346\n",
      "[6]\tvalid_0's binary_logloss: 0.642263\n",
      "[7]\tvalid_0's binary_logloss: 0.634333\n",
      "[8]\tvalid_0's binary_logloss: 0.626546\n",
      "[9]\tvalid_0's binary_logloss: 0.61907\n",
      "[10]\tvalid_0's binary_logloss: 0.611568\n",
      "[11]\tvalid_0's binary_logloss: 0.6042\n",
      "[12]\tvalid_0's binary_logloss: 0.597259\n",
      "[13]\tvalid_0's binary_logloss: 0.590173\n",
      "[14]\tvalid_0's binary_logloss: 0.583191\n",
      "[15]\tvalid_0's binary_logloss: 0.576336\n",
      "training xgbm\n",
      "[0]\ttrain-error:0.033816\tvalid-error:0.034294\n",
      "Multiple eval metrics have been passed: 'valid-error' will be used for early stopping.\n",
      "\n",
      "Will train until valid-error hasn't improved in 5 rounds.\n",
      "[5]\ttrain-error:0.033697\tvalid-error:0.034183\n",
      "[10]\ttrain-error:0.032685\tvalid-error:0.033173\n",
      "training lgbm\n",
      "[1]\tvalid_0's binary_logloss: 0.684341\n",
      "[2]\tvalid_0's binary_logloss: 0.675669\n",
      "[3]\tvalid_0's binary_logloss: 0.667193\n",
      "[4]\tvalid_0's binary_logloss: 0.658783\n",
      "[5]\tvalid_0's binary_logloss: 0.650571\n",
      "[6]\tvalid_0's binary_logloss: 0.642532\n",
      "[7]\tvalid_0's binary_logloss: 0.634765\n",
      "[8]\tvalid_0's binary_logloss: 0.62697\n",
      "[9]\tvalid_0's binary_logloss: 0.619491\n",
      "[10]\tvalid_0's binary_logloss: 0.61203\n",
      "[11]\tvalid_0's binary_logloss: 0.604717\n",
      "[12]\tvalid_0's binary_logloss: 0.597544\n",
      "[13]\tvalid_0's binary_logloss: 0.590463\n",
      "[14]\tvalid_0's binary_logloss: 0.583485\n",
      "[15]\tvalid_0's binary_logloss: 0.576686\n",
      "training xgbm\n",
      "[0]\ttrain-error:0.034328\tvalid-error:0.034045\n",
      "Multiple eval metrics have been passed: 'valid-error' will be used for early stopping.\n",
      "\n",
      "Will train until valid-error hasn't improved in 5 rounds.\n",
      "[5]\ttrain-error:0.03379\tvalid-error:0.033466\n",
      "[10]\ttrain-error:0.033301\tvalid-error:0.033149\n",
      "training lgbm\n",
      "[1]\tvalid_0's binary_logloss: 0.684236\n",
      "[2]\tvalid_0's binary_logloss: 0.675502\n",
      "[3]\tvalid_0's binary_logloss: 0.666932\n",
      "[4]\tvalid_0's binary_logloss: 0.658596\n",
      "[5]\tvalid_0's binary_logloss: 0.650356\n",
      "[6]\tvalid_0's binary_logloss: 0.642328\n",
      "[7]\tvalid_0's binary_logloss: 0.634392\n",
      "[8]\tvalid_0's binary_logloss: 0.626633\n",
      "[9]\tvalid_0's binary_logloss: 0.618995\n",
      "[10]\tvalid_0's binary_logloss: 0.611556\n",
      "[11]\tvalid_0's binary_logloss: 0.604245\n",
      "[12]\tvalid_0's binary_logloss: 0.597054\n",
      "[13]\tvalid_0's binary_logloss: 0.589992\n",
      "[14]\tvalid_0's binary_logloss: 0.583016\n",
      "[15]\tvalid_0's binary_logloss: 0.576206\n",
      "training xgbm\n",
      "[0]\ttrain-error:0.03364\tvalid-error:0.034194\n",
      "Multiple eval metrics have been passed: 'valid-error' will be used for early stopping.\n",
      "\n",
      "Will train until valid-error hasn't improved in 5 rounds.\n",
      "[5]\ttrain-error:0.033632\tvalid-error:0.034166\n",
      "[10]\ttrain-error:0.032752\tvalid-error:0.033401\n"
     ]
    }
   ],
   "source": [
    "#X_train['foldID'] = -1\n",
    "fold_id = 0\n",
    "kf = StratifiedKFold(n_splits=3, shuffle=True)\n",
    "\n",
    "for train_index, test_index in kf.split(X_train, y_train):    \n",
    "    ### lgbm\n",
    "    print('training lgbm')\n",
    "    \n",
    "    lgb_fitted = fit_lgb_model(fold_id, train_index, test_index)\n",
    "    lgb_preds = lgb_fitted.predict(X_train.iloc[test_index])\n",
    "    train_meta.iloc[test_index, train_meta.columns.get_loc('M1')] = lgb_preds\n",
    "    \n",
    "    ### xgb\n",
    "    print('training xgbm')\n",
    "\n",
    "    xgb_fitted = fit_xgb_model(fold_id, train_index, test_index)\n",
    "    xgb_preds = xgb_fitted.predict(xgb.DMatrix(X_train.iloc[test_index]))\n",
    "    train_meta.iloc[test_index, train_meta.columns.get_loc('M2')] = xgb_preds\n",
    "    \n",
    "    train_meta.iloc[test_index, train_meta.columns.get_loc('fold_id')] = fold_id # test fold\n",
    "    fold_id = fold_id + 1\n"
   ]
  },
  {
   "cell_type": "code",
   "execution_count": 6,
   "metadata": {},
   "outputs": [
    {
     "data": {
      "text/plain": [
       "\"\\n### model stacking ###\\n\\n#lgb_preds = lgb_fitted.predict(test.drop(['msno', 'is_churn'], axis=1)).clip(0.0000001, 0.999999)\\n\\nsubmission = pd.DataFrame()\\nsubmission['msno'] = test['msno']\\nsubmission['is_churn'] = lgb_preds\\n\\nsubmission.to_csv('../output/submission.csv', index=False)\\n\""
      ]
     },
     "execution_count": 6,
     "metadata": {},
     "output_type": "execute_result"
    }
   ],
   "source": [
    "'''\n",
    "### model stacking ###\n",
    "\n",
    "\n",
    "\n"
   ]
  },
  {
   "cell_type": "code",
   "execution_count": 9,
   "metadata": {},
   "outputs": [
    {
     "data": {
      "text/plain": [
       "(869896, 21)"
      ]
     },
     "execution_count": 9,
     "metadata": {},
     "output_type": "execute_result"
    }
   ],
   "source": [
    "train_meta.shape"
   ]
  },
  {
   "cell_type": "code",
   "execution_count": 32,
   "metadata": {},
   "outputs": [
    {
     "data": {
      "text/html": [
       "<div>\n",
       "<style>\n",
       "    .dataframe thead tr:only-child th {\n",
       "        text-align: right;\n",
       "    }\n",
       "\n",
       "    .dataframe thead th {\n",
       "        text-align: left;\n",
       "    }\n",
       "\n",
       "    .dataframe tbody tr th {\n",
       "        vertical-align: top;\n",
       "    }\n",
       "</style>\n",
       "<table border=\"1\" class=\"dataframe\">\n",
       "  <thead>\n",
       "    <tr style=\"text-align: right;\">\n",
       "      <th></th>\n",
       "      <th>city</th>\n",
       "      <th>bd</th>\n",
       "      <th>registered_via</th>\n",
       "      <th>registration_init_time</th>\n",
       "      <th>expiration_date</th>\n",
       "      <th>total_order</th>\n",
       "      <th>plan_net_worth</th>\n",
       "      <th>mean_payment_each_transaction</th>\n",
       "      <th>total_actual_payment</th>\n",
       "      <th>cancel_times</th>\n",
       "      <th>...</th>\n",
       "      <th>last_listen_date</th>\n",
       "      <th>dist_last_listen_registration</th>\n",
       "      <th>dist_expiration_last_listen</th>\n",
       "      <th>listens_per_day</th>\n",
       "      <th>female</th>\n",
       "      <th>male</th>\n",
       "      <th>unknown_gender</th>\n",
       "      <th>fold_id</th>\n",
       "      <th>M1</th>\n",
       "      <th>M2</th>\n",
       "    </tr>\n",
       "  </thead>\n",
       "  <tbody>\n",
       "    <tr>\n",
       "      <th>0</th>\n",
       "      <td>18.0</td>\n",
       "      <td>36.0</td>\n",
       "      <td>9.0</td>\n",
       "      <td>20050406.0</td>\n",
       "      <td>20170907.0</td>\n",
       "      <td>2</td>\n",
       "      <td>149</td>\n",
       "      <td>74.5</td>\n",
       "      <td>149</td>\n",
       "      <td>0</td>\n",
       "      <td>...</td>\n",
       "      <td>20170208.0</td>\n",
       "      <td>119802.0</td>\n",
       "      <td>699.0</td>\n",
       "      <td>0.000217</td>\n",
       "      <td>1</td>\n",
       "      <td>0</td>\n",
       "      <td>0</td>\n",
       "      <td>2</td>\n",
       "      <td>0.475003</td>\n",
       "      <td>0.449428</td>\n",
       "    </tr>\n",
       "  </tbody>\n",
       "</table>\n",
       "<p>1 rows × 21 columns</p>\n",
       "</div>"
      ],
      "text/plain": [
       "   city    bd  registered_via  registration_init_time  expiration_date  \\\n",
       "0  18.0  36.0             9.0              20050406.0       20170907.0   \n",
       "\n",
       "   total_order  plan_net_worth  mean_payment_each_transaction  \\\n",
       "0            2             149                           74.5   \n",
       "\n",
       "   total_actual_payment  cancel_times    ...     last_listen_date  \\\n",
       "0                   149             0    ...           20170208.0   \n",
       "\n",
       "   dist_last_listen_registration  dist_expiration_last_listen  \\\n",
       "0                       119802.0                        699.0   \n",
       "\n",
       "   listens_per_day  female  male  unknown_gender  fold_id        M1        M2  \n",
       "0         0.000217       1     0               0        2  0.475003  0.449428  \n",
       "\n",
       "[1 rows x 21 columns]"
      ]
     },
     "execution_count": 32,
     "metadata": {},
     "output_type": "execute_result"
    }
   ],
   "source": [
    "train_meta.head(1)"
   ]
  },
  {
   "cell_type": "code",
   "execution_count": null,
   "metadata": {
    "collapsed": true
   },
   "outputs": [],
   "source": [
    "#lgb_preds = lgb_fitted.predict(test.drop(['msno', 'is_churn'], axis=1)).clip(0.0000001, 0.999999)\n",
    "\n",
    "submission = pd.DataFrame()\n",
    "submission['msno'] = test['msno']\n",
    "submission['is_churn'] = lgb_preds\n",
    "\n",
    "submission.to_csv('../output/submission.csv', index=False)\n",
    "'''"
   ]
  }
 ],
 "metadata": {
  "kernelspec": {
   "display_name": "Python 3",
   "language": "python",
   "name": "python3"
  },
  "language_info": {
   "codemirror_mode": {
    "name": "ipython",
    "version": 3
   },
   "file_extension": ".py",
   "mimetype": "text/x-python",
   "name": "python",
   "nbconvert_exporter": "python",
   "pygments_lexer": "ipython3",
   "version": "3.6.2"
  }
 },
 "nbformat": 4,
 "nbformat_minor": 2
}
